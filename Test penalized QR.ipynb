{
 "metadata": {
  "language": "Julia",
  "name": "",
  "signature": "sha256:4c8ed899393b75dfa31f64c6c45241d6998d1478acee72594117c072668876af"
 },
 "nbformat": 3,
 "nbformat_minor": 0,
 "worksheets": [
  {
   "cells": [
    {
     "cell_type": "code",
     "collapsed": false,
     "input": [
      "import Convex\n",
      "import Mosek\n",
      "import JuMP"
     ],
     "language": "python",
     "metadata": {},
     "outputs": [],
     "prompt_number": 1
    },
    {
     "cell_type": "markdown",
     "metadata": {},
     "source": [
      "Generate data"
     ]
    },
    {
     "cell_type": "code",
     "collapsed": false,
     "input": [
      "n = 2000\n",
      "p = 5000\n",
      "s = 10\n",
      "\n",
      "rho = 0.5\n",
      "covMat = rho.^abs([1:p]*ones(p)' - ones(p)*[1:p]')\n",
      "\n",
      "X = randn(n, p) * sqrtm(covMat)\n",
      "true_beta = vcat( (1.+rand(s)) .* (2.*rand(0:1,s).-1), zeros(p-s))\n",
      "Y = X * true_beta + 0.1 .* randn(n)\n",
      "\n",
      "@show true_beta[1:s];"
     ],
     "language": "python",
     "metadata": {},
     "outputs": [
      {
       "output_type": "stream",
       "stream": "stdout",
       "text": [
        "true_beta[1:s] => [-1.9717088460445666,1.6029695699517774,1.2136801528987835,1.8519810438343187,1.7917513822211246,-1.9795642489251102,1.9248521815171311,-1.912970420715021,-1.0687110015839774,-1.9852347946888242]"
       ]
      },
      {
       "output_type": "stream",
       "stream": "stdout",
       "text": [
        "\n"
       ]
      }
     ],
     "prompt_number": 15
    },
    {
     "cell_type": "code",
     "collapsed": false,
     "input": [
      "function qr(X, Y, lambda)\n",
      "    \n",
      "    solver = Mosek.MosekSolver(LOG=0)\n",
      "    Convex.set_default_solver(solver);\n",
      "\n",
      "    n, p = size(X)\n",
      "    theta = Convex.Variable(p);\n",
      "    prob = Convex.minimize(sum(abs(Y-X*theta)) / n / 2 + lambda * norm(theta, 1))\n",
      "    Convex.solve!(prob)\n",
      "\n",
      "    theta.value\n",
      "end"
     ],
     "language": "python",
     "metadata": {},
     "outputs": [
      {
       "metadata": {},
       "output_type": "pyout",
       "prompt_number": 3,
       "text": [
        "qr (generic function with 1 method)"
       ]
      }
     ],
     "prompt_number": 3
    },
    {
     "cell_type": "code",
     "collapsed": false,
     "input": [
      "function qr_jump(X, Y, lambda)\n",
      "\n",
      "    tau = 0.5\n",
      "    solverJ = JuMP.Model(solver=Mosek.MosekSolver(LOG=0))\n",
      "\n",
      "    oneN = ones(n)\n",
      "    oneP = ones(p)\n",
      "    @JuMP.defVar(solverJ, z[1:p])\n",
      "    @JuMP.defVar(solverJ, t1[1:p])\n",
      "    @JuMP.defVar(solverJ, t2[1:p])\n",
      "    @JuMP.defVar(solverJ, u[1:n])\n",
      "    @JuMP.defVar(solverJ, v[1:n])\n",
      "    @JuMP.setObjective(solverJ, Min, (tau*dot(oneN, u) + (1-tau)*dot(oneN, v)) / n + lambda * (dot(oneP, t1) + dot(oneP, t2)))\n",
      "    for i=1:n\n",
      "        @JuMP.addConstraint(solverJ, Y[i] - dot(vec(X[i,:]), z) == u[i] - v[i])\n",
      "        @JuMP.addConstraint(solverJ, u[i] >= 0)\n",
      "        @JuMP.addConstraint(solverJ, v[i] >= 0)\n",
      "    end\n",
      "    for i=1:p\n",
      "        @JuMP.addConstraint(solverJ, z[i] == t1[i] - t2[i])\n",
      "        @JuMP.addConstraint(solverJ, t1[i] >= 0)\n",
      "        @JuMP.addConstraint(solverJ, t2[i] >= 0)\n",
      "    end\n",
      "\n",
      "    JuMP.solve(solverJ)    \n",
      "    \n",
      "    JuMP.getValue(z)\n",
      "end"
     ],
     "language": "python",
     "metadata": {},
     "outputs": [
      {
       "metadata": {},
       "output_type": "pyout",
       "prompt_number": 7,
       "text": [
        "qr_jump (generic function with 1 method)"
       ]
      }
     ],
     "prompt_number": 7
    },
    {
     "cell_type": "code",
     "collapsed": false,
     "input": [
      "@time estim_theta = qr(X, Y, 0.2)\n",
      "@show find(abs(estim_theta) .> 1e-4);\n",
      "\n",
      "@time estim_theta = qr_jump(X, Y, 0.2)\n",
      "@show find(abs(estim_theta) .> 1e-4);"
     ],
     "language": "python",
     "metadata": {},
     "outputs": [
      {
       "output_type": "stream",
       "stream": "stdout",
       "text": [
        "elapsed time: 3"
       ]
      },
      {
       "output_type": "stream",
       "stream": "stdout",
       "text": [
        ".8629621 seconds (535676316 bytes allocated, 7.01% gc time)\n",
        "find(abs(estim_theta) .> 0.0001) => [2]\n",
        "elapsed time: "
       ]
      },
      {
       "output_type": "stream",
       "stream": "stdout",
       "text": [
        "2.766913901 seconds (75036956 bytes allocated)\n",
        "find(abs(estim_theta) .> 0.0001) => [2]\n"
       ]
      }
     ],
     "prompt_number": 8
    },
    {
     "cell_type": "code",
     "collapsed": false,
     "input": [
      "lambda = 0.40\n",
      "tau = 0.5\n",
      "solverJ = JuMP.Model(solver=Mosek.MosekSolver(LOG=1, OPTIMIZER=Mosek.MSK_OPTIMIZER_FREE_SIMPLEX))\n",
      "\n",
      "oneN = ones(n)\n",
      "oneP = ones(p)\n",
      "@JuMP.defVar(solverJ, z[1:p])\n",
      "@JuMP.defVar(solverJ, t1[1:p])\n",
      "@JuMP.defVar(solverJ, t2[1:p])\n",
      "@JuMP.defVar(solverJ, u[1:n])\n",
      "@JuMP.defVar(solverJ, v[1:n])\n",
      "@JuMP.setObjective(solverJ, Min, (tau*dot(oneN, u) + (1-tau)*dot(oneN, v)) / n + lambda * (dot(oneP, t1) + dot(oneP, t2)))\n",
      "for i=1:n\n",
      "    @JuMP.addConstraint(solverJ, Y[i] - dot(vec(X[i,:]), z) == u[i] - v[i])\n",
      "    @JuMP.addConstraint(solverJ, u[i] >= 0)\n",
      "    @JuMP.addConstraint(solverJ, v[i] >= 0)\n",
      "end\n",
      "for i=1:p\n",
      "    @JuMP.addConstraint(solverJ, z[i] == t1[i] - t2[i])\n",
      "    @JuMP.addConstraint(solverJ, t1[i] >= 0)\n",
      "    @JuMP.addConstraint(solverJ, t2[i] >= 0)\n",
      "end\n",
      "\n",
      "@time JuMP.solve(solverJ)    "
     ],
     "language": "python",
     "metadata": {},
     "outputs": [
      {
       "output_type": "stream",
       "stream": "stdout",
       "text": [
        "Computer\n",
        "  Platform               : Linux/64-X86    \n"
       ]
      },
      {
       "output_type": "stream",
       "stream": "stdout",
       "text": [
        "  Cores                  : 2               \n",
        "\n",
        "Problem\n",
        "  Name                   :                 \n",
        "  Objective sense        : min             \n",
        "  Type                   : LO (linear optimization problem)\n",
        "  Constraints            : 21000           \n",
        "  Cones                  : 0               \n",
        "  Scalar variables       : 19000           \n",
        "  Matrix variables       : 0               \n",
        "  Integer variables      : 0               \n",
        "\n",
        "Optimizer started.\n",
        "Simplex optimizer started.\n",
        "Presolve started.\n",
        "Linear dependency checker started.\n"
       ]
      },
      {
       "output_type": "stream",
       "stream": "stdout",
       "text": [
        "Linear dependency checker terminated.\n",
        "Eliminator - tries                  : 0                 time                   : 0.00            \n"
       ]
      },
      {
       "output_type": "stream",
       "stream": "stdout",
       "text": [
        "Eliminator - elim's                 : 0               \n",
        "Lin. dep.  - tries                  : 1                 time                   : 0.10            \n",
        "Lin. dep.  - number                 : 0               \n",
        "Presolve terminated. Time: 1.09    \n",
        "Dual simplex optimizer started.\n"
       ]
      },
      {
       "output_type": "stream",
       "stream": "stdout",
       "text": [
        "Dual simplex optimizer setup started.\n"
       ]
      },
      {
       "output_type": "stream",
       "stream": "stdout",
       "text": [
        "Dual simplex optimizer setup terminated.\n",
        "Optimizer  - solved problem         : the dual        \n",
        "Optimizer  - Constraints            : 5000            \n",
        "Optimizer  - Scalar variables       : 7000              conic                  : 0               \n",
        "Optimizer  - hotstart               : no              \n",
        "ITER      DEGITER(%)  PFEAS       DFEAS       POBJ                  DOBJ                  TIME      TOTTIME \n",
        "0         0.00        0.00e+00    NA          2.1785648843e+00      NA                    1.60      4.48    \n"
       ]
      },
      {
       "output_type": "stream",
       "stream": "stdout",
       "text": [
        "0         0.00        0.00e+00    NA          2.1785648843e+00      NA                    1.93      4.81    \n"
       ]
      },
      {
       "output_type": "stream",
       "stream": "stdout",
       "text": [
        "Dual simplex optimizer terminated.\n",
        "Simplex optimizer terminated. Time: 5.42. \n"
       ]
      },
      {
       "output_type": "stream",
       "stream": "stdout",
       "text": [
        "\n",
        "Optimizer terminated. Time: 5.42    \n",
        "elapsed time: 6.100713463 seconds (410062344 bytes allocated)\n"
       ]
      },
      {
       "metadata": {},
       "output_type": "pyout",
       "prompt_number": 16,
       "text": [
        ":Optimal"
       ]
      }
     ],
     "prompt_number": 16
    },
    {
     "cell_type": "code",
     "collapsed": true,
     "input": [
      "lambda=0.98\n",
      "\n",
      "@JuMP.setObjective(solverJ, Min, (tau*dot(oneN, u) + (1-tau)*dot(oneN, v)) / n + lambda * (dot(oneP, t1) + dot(oneP, t2)))\n",
      "@time JuMP.solve(solverJ) \n"
     ],
     "language": "python",
     "metadata": {},
     "outputs": [
      {
       "output_type": "stream",
       "stream": "stdout",
       "text": [
        "Optimizer started.\n",
        "Presolve started.\n"
       ]
      },
      {
       "output_type": "stream",
       "stream": "stdout",
       "text": [
        "Presolve terminated. Time: 0.62    \n"
       ]
      },
      {
       "output_type": "stream",
       "stream": "stdout",
       "text": [
        "Optimizer terminated. Time: 2.35    \n"
       ]
      },
      {
       "output_type": "stream",
       "stream": "stdout",
       "text": [
        "elapsed time: 2.417413775 seconds (26753112 bytes allocated)\n"
       ]
      },
      {
       "metadata": {},
       "output_type": "pyout",
       "prompt_number": 24,
       "text": [
        ":Optimal"
       ]
      }
     ],
     "prompt_number": 24
    },
    {
     "cell_type": "code",
     "collapsed": false,
     "input": [],
     "language": "python",
     "metadata": {},
     "outputs": []
    }
   ],
   "metadata": {}
  }
 ]
}
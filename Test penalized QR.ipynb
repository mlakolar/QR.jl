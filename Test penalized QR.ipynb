{
 "cells": [
  {
   "cell_type": "code",
   "execution_count": 2,
   "metadata": {
    "collapsed": false
   },
   "outputs": [],
   "source": [
    "import Convex\n",
    "import Mosek\n",
    "import JuMP\n",
    "import HD"
   ]
  },
  {
   "cell_type": "markdown",
   "metadata": {},
   "source": [
    "Generate data"
   ]
  },
  {
   "cell_type": "code",
   "execution_count": 15,
   "metadata": {
    "collapsed": false
   },
   "outputs": [
    {
     "name": "stdout",
     "output_type": "stream",
     "text": [
      "true_beta[1:s] => [-1.9717088460445666,1.6029695699517774,1.2136801528987835,1.8519810438343187,1.7917513822211246,-1.9795642489251102,1.9248521815171311,-1.912970420715021,-1.0687110015839774,-1.9852347946888242]\n"
     ]
    }
   ],
   "source": [
    "n = 2000\n",
    "p = 5000\n",
    "s = 10\n",
    "\n",
    "rho = 0.5\n",
    "covMat = rho.^abs([1:p]*ones(p)' - ones(p)*[1:p]')\n",
    "\n",
    "X = randn(n, p) * sqrtm(covMat)\n",
    "true_beta = vcat( (1.+rand(s)) .* (2.*rand(0:1,s).-1), zeros(p-s))\n",
    "Y = X * true_beta + 0.1 .* randn(n)\n",
    "\n",
    "@show true_beta[1:s];"
   ]
  },
  {
   "cell_type": "markdown",
   "metadata": {},
   "source": [
    "Functions for quantile regression"
   ]
  },
  {
   "cell_type": "code",
   "execution_count": 3,
   "metadata": {
    "collapsed": false
   },
   "outputs": [
    {
     "data": {
      "text/plain": [
       "qr_dual (generic function with 1 method)"
      ]
     },
     "execution_count": 3,
     "metadata": {},
     "output_type": "execute_result"
    }
   ],
   "source": [
    "# implementation using convex\n",
    "function qr(X, Y, lambda)\n",
    "    \n",
    "    solver = Mosek.MosekSolver(LOG=0)\n",
    "    Convex.set_default_solver(solver);\n",
    "\n",
    "    n, p = size(X)\n",
    "    theta = Convex.Variable(p);\n",
    "    prob = Convex.minimize(sum(abs(Y-X*theta)) / n / 2 + lambda * norm(theta, 1))\n",
    "    Convex.solve!(prob)\n",
    "\n",
    "    theta.value\n",
    "end\n",
    "\n",
    "#implementation using JuMP\n",
    "function qr_primal(X, Y, lambda, tau)\n",
    "    solverJ = JuMP.Model(solver=Mosek.MosekSolver(LOG=1))\n",
    "    n, p = size(X)\n",
    "\n",
    "    oneN = ones(n)\n",
    "    @JuMP.defVar(solverJ, z[1:p])\n",
    "    @JuMP.defVar(solverJ, t[1:p])\n",
    "    @JuMP.defVar(solverJ, u[1:n])\n",
    "    @JuMP.defVar(solverJ, v[1:n])\n",
    "    @JuMP.setObjective(solverJ, Min, (tau*dot(oneN, u) + (1-tau)*dot(oneN, v)) / n + dot(lambda, t))\n",
    "    for i=1:n\n",
    "        @JuMP.addConstraint(solverJ, Y[i] - dot(vec(X[i,:]), z) == u[i] - v[i])\n",
    "        @JuMP.addConstraint(solverJ, u[i] >= 0)\n",
    "        @JuMP.addConstraint(solverJ, v[i] >= 0)\n",
    "    end\n",
    "    for i=1:p\n",
    "        @JuMP.addConstraint(solverJ, z[i] <= t[i])\n",
    "        @JuMP.addConstraint(solverJ, -z[i] <= t[i])\n",
    "    end\n",
    "\n",
    "    JuMP.solve(solverJ)\n",
    "\n",
    "    JuMP.getValue(z)\n",
    "end\n",
    "\n",
    "#implementation unsing JuMP dual\n",
    "function qr_dual(X, Y, lambda, tau)\n",
    "    solverJ = JuMP.Model(solver=Mosek.MosekSolver(LOG=1))\n",
    "    n, p = size(X)\n",
    "\n",
    "    @JuMP.defVar(solverJ, xi[1:n])\n",
    "    @JuMP.defVar(solverJ, cp[1:p])\n",
    "    @JuMP.defVar(solverJ, cn[1:p])\n",
    "    @JuMP.setObjective(solverJ, Max, -dot(xi, Y))\n",
    "    for i=1:n\n",
    "        @JuMP.addConstraint(solverJ, xi[i] <= 1-tau)\n",
    "        @JuMP.addConstraint(solverJ, xi[i] >= -tau)    \n",
    "    end\n",
    "    for i=1:p\n",
    "        @JuMP.addConstraint(solverJ, dot(vec(X[:, i]), xi) == cp[i] - cn[i])\n",
    "        @JuMP.addConstraint(solverJ, cp[i] >= 0)\n",
    "        @JuMP.addConstraint(solverJ, cn[i] >= 0)\n",
    "        @JuMP.addConstraint(solverJ, cp[i] + cn[i] <= lambda[i])\n",
    "    end\n",
    "\n",
    "    JuMP.solve(solverJ)\n",
    "\n",
    "    JuMP.getValue(xi)\n",
    "end\n"
   ]
  },
  {
   "cell_type": "code",
   "execution_count": 6,
   "metadata": {
    "collapsed": false
   },
   "outputs": [
    {
     "name": "stderr",
     "output_type": "stream",
     "text": [
      "INFO: Loading help data...\n"
     ]
    },
    {
     "name": "stdout",
     "output_type": "stream",
     "text": [
      "Base.mapslices(f, A, dims)\n",
      "\n",
      "   Transform the given dimensions of array \"A\" using function \"f\".\n",
      "   \"f\" is called on each slice of \"A\" of the form\n",
      "   \"A[...,:,...,:,...]\". \"dims\" is an integer vector specifying\n",
      "   where the colons go in this expression. The results are\n",
      "   concatenated along the remaining dimensions. For example, if\n",
      "   \"dims\" is \"[1,2]\" and A is 4-dimensional, \"f\" is called on\n",
      "   \"A[:,:,i,j]\" for all \"i\" and \"j\".\n"
     ]
    }
   ],
   "source": [
    "?mapslices"
   ]
  },
  {
   "cell_type": "code",
   "execution_count": 9,
   "metadata": {
    "collapsed": false
   },
   "outputs": [
    {
     "data": {
      "text/plain": [
       "2x4 Array{Int64,2}:\n",
       " 1  2  3  4\n",
       " 1  2  3  4"
      ]
     },
     "execution_count": 9,
     "metadata": {},
     "output_type": "execute_result"
    }
   ],
   "source": [
    "A = [1 2 3 4; 1 2 3 4]"
   ]
  },
  {
   "cell_type": "code",
   "execution_count": 8,
   "metadata": {
    "collapsed": false
   },
   "outputs": [
    {
     "data": {
      "text/plain": [
       "1x3 Array{Float64,2}:\n",
       " 1.41421  2.82843  4.24264"
      ]
     },
     "execution_count": 8,
     "metadata": {},
     "output_type": "execute_result"
    }
   ],
   "source": [
    "mapslices(norm, A, 1)"
   ]
  },
  {
   "cell_type": "code",
   "execution_count": null,
   "metadata": {
    "collapsed": true
   },
   "outputs": [],
   "source": []
  }
 ],
 "metadata": {
  "kernelspec": {
   "display_name": "Julia 0.3.7-pre",
   "language": "julia",
   "name": "julia 0.3"
  },
  "language_info": {
   "name": "julia",
   "version": "0.3.7"
  }
 },
 "nbformat": 4,
 "nbformat_minor": 0
}

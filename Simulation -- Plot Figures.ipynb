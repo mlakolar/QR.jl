{
 "cells": [
  {
   "cell_type": "code",
   "execution_count": 2,
   "metadata": {
    "collapsed": false
   },
   "outputs": [],
   "source": [
    "addprocs(15);"
   ]
  },
  {
   "cell_type": "code",
   "execution_count": 1,
   "metadata": {
    "collapsed": false
   },
   "outputs": [
    {
     "data": {
      "text/plain": [
       "1-element Array{Int64,1}:\n",
       " 1"
      ]
     },
     "execution_count": 1,
     "metadata": {},
     "output_type": "execute_result"
    }
   ],
   "source": [
    "workers()"
   ]
  },
  {
   "cell_type": "markdown",
   "metadata": {},
   "source": [
    "Load required modules"
   ]
  },
  {
   "cell_type": "code",
   "execution_count": 3,
   "metadata": {
    "collapsed": true
   },
   "outputs": [],
   "source": [
    "@everywhere using QR, HD"
   ]
  },
  {
   "cell_type": "code",
   "execution_count": 4,
   "metadata": {
    "collapsed": true
   },
   "outputs": [],
   "source": [
    "@everywhere using HDF5, JLD  # loading data"
   ]
  },
  {
   "cell_type": "code",
   "execution_count": 5,
   "metadata": {
    "collapsed": false
   },
   "outputs": [
    {
     "name": "stderr",
     "output_type": "stream",
     "text": [
      "INFO: Loading help data...\n",
      "INFO: Loading help data...\n",
      "INFO: Loading help data...\n",
      "INFO: Loading help data...\n",
      "INFO: Loading help data...\n",
      "INFO: Loading help data...\n",
      "INFO: Loading help data...\n",
      "INFO: Loading help data...\n",
      "INFO: Loading help data...\n",
      "INFO: Loading help data...\n",
      "INFO: Loading help data...\n",
      "INFO: Loading help data...\n",
      "INFO: Loading help data...\n",
      "INFO: Loading help data...\n",
      "INFO: Loading help data...\n",
      "INFO: Loading help data...\n"
     ]
    }
   ],
   "source": [
    "@everywhere using PyPlot  # plotting\n",
    "@everywhere using Distributions"
   ]
  },
  {
   "cell_type": "code",
   "execution_count": 6,
   "metadata": {
    "collapsed": true
   },
   "outputs": [],
   "source": [
    "@everywhere function compute_coverage_refit_known_f(\n",
    "    lambdaQRArr, lambdaLassoArr, tauArr, rep, indTau, indJ;\n",
    "    simPath = \"/scratch/midway/mkolar/qr\", \n",
    "    corType = 1,\n",
    "    noiseType = 1\n",
    "    )    \n",
    "    \n",
    "    tau = tauArr[indTau]\n",
    "    err_d = Normal()\n",
    "    spF = 1. / pdf(err_d, 0 )\n",
    "    \n",
    "    # load data\n",
    "    data = JLD.load(\"$(simPath)/data/data_rep_$(rep)_cor_$(corType)_noise_$(noiseType).jld\")\n",
    "    X = data[\"X\"]\n",
    "    Y = data[\"Y\"]\n",
    "    s = data[\"s\"]\n",
    "    true_beta = data[\"beta\"]\n",
    "    \n",
    "    if indJ > s\n",
    "        true_coef = 0.\n",
    "    else\n",
    "        true_coef = true_beta[indJ]\n",
    "    end\n",
    "    \n",
    "    n, p = size(X)\n",
    "    \n",
    "    hSigma = X'*X / n\n",
    "    \n",
    "    residuals = Array(Float64, n)\n",
    "    gradient = Array(Float64, p)\n",
    "    \n",
    "    num_covered = zeros(length(lambdaQRArr), length(lambdaLassoArr))\n",
    "    num_appear = zeros(length(lambdaQRArr), length(lambdaLassoArr))\n",
    "    \n",
    "    # load result rep --> result\n",
    "    if isfile(\"$(simPath)/path_rep_$(rep)_cor_$(corType)_noise_$(noiseType).jld\")\n",
    "        result = JLD.load(\"$(simPath)/path_rep_$(rep)_cor_$(corType)_noise_$(noiseType).jld\")\n",
    "    else\n",
    "        return (num_appear, num_covered)\n",
    "    end\n",
    "        \n",
    "    cur_qr_path = result[\"qr_tau_path\"][indTau]\n",
    "    cur_lasso_path = result[\"lasso_var_path\"][indJ]\n",
    "\n",
    "    for indL1=1:length(cur_qr_path.lambdaArr)        \n",
    "        estim_support_qr = find(cur_qr_path.beta[indL1])\n",
    "        refit_qr = result[\"qr_refit_tau_path\"][indTau][estim_support_qr]\n",
    "        \n",
    "        for indL2=1:length(cur_lasso_path.lambdaArr)\n",
    "            estim_support_lasso = find(cur_lasso_path.beta[indL2])\n",
    "            refit_lasso = result[\"lasso_refit_var_path\"][indJ][estim_support_lasso]\n",
    "\n",
    "            for i=1:n\n",
    "                tmp = Y[i] - refit_qr.intercept - dot(vec(X[i, refit_qr.beta.rowval]), refit_qr.beta.nzval)\n",
    "                if tmp < 0.\n",
    "                    residuals[i] = tau - 1\n",
    "                else\n",
    "                    residuals[i] = tau\n",
    "                end\n",
    "            end\n",
    "            At_mul_B!(gradient, X, residuals)              \n",
    "            \n",
    "            hb_debias = refit_qr.beta[indJ] + dot(refit_lasso, gradient[estim_support_lasso]) * spF / n\n",
    "            eSigma = dot(refit_lasso, hSigma[estim_support_lasso, estim_support_lasso] * refit_lasso) * tau * (1 - tau) * spF^2 / n\n",
    "            lb = hb_debias - 1.96 * sqrt( eSigma )\n",
    "            ub = hb_debias + 1.96 * sqrt( eSigma )            \n",
    "            \n",
    "            num_appear[indL1, indL2] += 1\n",
    "            if (lb < true_coef < ub)\n",
    "                num_covered[indL1, indL2] += 1\n",
    "            end\n",
    "            \n",
    "        end\n",
    "    end\n",
    "    \n",
    "    (num_covered, num_appear)\n",
    "end"
   ]
  },
  {
   "cell_type": "markdown",
   "metadata": {},
   "source": [
    "## Computing coverage"
   ]
  },
  {
   "cell_type": "code",
   "execution_count": 7,
   "metadata": {
    "collapsed": false
   },
   "outputs": [],
   "source": [
    "@everywhere function loadF(rep) \n",
    "    lambdaQRArr = linspace(0.4, 0.0, 100)\n",
    "    lambdaLassoArr = linspace(0.8, 0.05, 100)\n",
    "    tauArr = [0.3:0.02:0.7]\n",
    "    indTau = findfirst(tauArr,0.5)\n",
    "    indJ = 10\n",
    "    \n",
    "    simPath = \"/scratch/midway/mkolar/qr1\"    \n",
    "    corType = 2\n",
    "    noiseType = 1\n",
    "    \n",
    "    @time compute_coverage_refit_known_f(\n",
    "        lambdaQRArr, lambdaLassoArr, tauArr, rep, indTau, indJ;\n",
    "        simPath = simPath, \n",
    "        corType = corType,\n",
    "        noiseType = noiseType)    \n",
    "end"
   ]
  },
  {
   "cell_type": "code",
   "execution_count": 8,
   "metadata": {
    "collapsed": false
   },
   "outputs": [
    {
     "name": "stdout",
     "output_type": "stream",
     "text": [
      "\tFrom worker 2:\telapsed time: 0.681117518 seconds (15596996 bytes allocated)\n",
      "\tFrom worker 2:\telapsed time: 2.207007371 seconds (67838328 bytes allocated, 2.40% gc time)\n",
      "\tFrom worker 2:\telapsed time: 12.942175245 seconds (3227094128 bytes allocated, 22.56% gc time)\n"
     ]
    }
   ],
   "source": [
    "numRep = 1\n",
    "colRes = pmap(loadF, [1:numRep]);"
   ]
  },
  {
   "cell_type": "code",
   "execution_count": null,
   "metadata": {
    "collapsed": false
   },
   "outputs": [],
   "source": [
    "numRep = 500\n",
    "\n",
    "agr_num_covered = zeros(100, 100)\n",
    "agr_num_appear = zeros(100, 100)\n",
    "\n",
    "for j=1:numRep\n",
    "    agr_num_covered += colRes[j][1]\n",
    "    agr_num_appear += colRes[j][2]\n",
    "end\n",
    "\n",
    "tmp = agr_num_covered ./ agr_num_appear\n",
    "@show tmp[80:90,70:90]\n",
    "imshow(tmp)\n",
    "colorbar()"
   ]
  },
  {
   "cell_type": "code",
   "execution_count": 72,
   "metadata": {
    "collapsed": false
   },
   "outputs": [
    {
     "ename": "LoadError",
     "evalue": "PyError (:PyObject_Call) <type 'exceptions.RuntimeError'>\nRuntimeError(u'No mappable was found to use for colorbar creation. First define a mappable such as an image (with imshow) or a contour set (with contourf).',)\n  File \"/home/mkolar/anaconda/lib/python2.7/site-packages/matplotlib/pyplot.py\", line 2147, in colorbar\n    raise RuntimeError('No mappable was found to use for colorbar '\n\nwhile loading In[72], in expression starting on line 1",
     "output_type": "error",
     "traceback": [
      "PyError (:PyObject_Call) <type 'exceptions.RuntimeError'>\nRuntimeError(u'No mappable was found to use for colorbar creation. First define a mappable such as an image (with imshow) or a contour set (with contourf).',)\n  File \"/home/mkolar/anaconda/lib/python2.7/site-packages/matplotlib/pyplot.py\", line 2147, in colorbar\n    raise RuntimeError('No mappable was found to use for colorbar '\n\nwhile loading In[72], in expression starting on line 1",
      "",
      " in getindex at /home/mkolar/.julia/v0.3/PyCall/src/PyCall.jl:252",
      " in pysequence_query at /home/mkolar/.julia/v0.3/PyCall/src/conversions.jl:751",
      " in pytype_query at /home/mkolar/.julia/v0.3/PyCall/src/conversions.jl:767",
      " in convert at /home/mkolar/.julia/v0.3/PyCall/src/conversions.jl:817",
      " in pycall at /home/mkolar/.julia/v0.3/PyCall/src/PyCall.jl:417",
      " in fn at /home/mkolar/.julia/v0.3/PyCall/src/conversions.jl:181",
      " in close_queued_figs at /home/mkolar/.julia/v0.3/PyPlot/src/PyPlot.jl:295"
     ]
    }
   ],
   "source": []
  },
  {
   "cell_type": "markdown",
   "metadata": {},
   "source": [
    "Kill Workers"
   ]
  },
  {
   "cell_type": "code",
   "execution_count": null,
   "metadata": {
    "collapsed": true
   },
   "outputs": [],
   "source": [
    "rmprocs(workers())"
   ]
  },
  {
   "cell_type": "code",
   "execution_count": 105,
   "metadata": {
    "collapsed": true
   },
   "outputs": [
    {
     "data": {
      "image/png": "[encoded data removed]",
      "text/plain": [
       "Figure(PyObject <matplotlib.figure.Figure object at 0x7fb397a23050>)"
      ]
     },
     "metadata": {},
     "output_type": "display_data"
    },
    {
     "data": {
      "text/plain": [
       "1-element Array{Any,1}:\n",
       " PyObject <matplotlib.lines.Line2D object at 0x7fb396a4a450>"
      ]
     },
     "execution_count": 105,
     "metadata": {},
     "output_type": "execute_result"
    }
   ],
   "source": [
    "h_dist = zeros(100)\n",
    "num_exp = zeros(100)\n",
    "s = 10\n",
    "numRep = 90\n",
    "for rep=1:numRep\n",
    "    cur_qr_path = simRes[1][\"qr_tau_path\"][indTau]\n",
    "    for indLambda=1:length(cur_qr_path.lambdaArr)\n",
    "        estim_support = find(cur_qr_path.beta[indLambda])\n",
    "        h_dist[indLambda] += length(setdiff(1:s, estim_support)) + length(setdiff(estim_support, 1:s))\n",
    "        num_exp[indLambda] += 1\n",
    "    end    \n",
    "end\n",
    "\n",
    "plot(lambdaArr, h_dist ./ num_exp, color=\"red\", linewidth=2.0, linestyle=\"--\")"
   ]
  },
  {
   "cell_type": "markdown",
   "metadata": {},
   "source": [
    "## For Debugging"
   ]
  },
  {
   "cell_type": "code",
   "execution_count": 9,
   "metadata": {
    "collapsed": false
   },
   "outputs": [],
   "source": [
    "simPath = \"/scratch/midway/mkolar/qr1\"\n",
    "rep = 1\n",
    "corType = 2\n",
    "noiseType = 1\n",
    "\n",
    "lambdaQRArr = linspace(0.4, 0.0, 100)\n",
    "lambdaLassoArr = linspace(0.8, 0.05, 100)\n",
    "tauArr = [0.3:0.02:0.7]\n",
    "indTau = findfirst(tauArr,0.5)\n",
    "indJ = 10\n",
    "\n",
    "\n",
    "data = JLD.load(\"$(simPath)/data/data_rep_$(rep)_cor_$(corType)_noise_$(noiseType).jld\")\n",
    "X = data[\"X\"]\n",
    "Y = data[\"Y\"]\n",
    "s = data[\"s\"]\n",
    "true_beta = data[\"beta\"]\n",
    "\n",
    "tau = 0.5\n",
    "err_d = Normal()\n",
    "spF = 1. / pdf(err_d, 0 )\n",
    "\n",
    "n, p = size(X)\n",
    "\n",
    "result = JLD.load(\"$(simPath)/path_rep_$(rep)_cor_$(corType)_noise_$(noiseType).jld\");"
   ]
  },
  {
   "cell_type": "code",
   "execution_count": 11,
   "metadata": {
    "collapsed": false
   },
   "outputs": [],
   "source": [
    "hSigma = X'*X / n\n",
    "\n",
    "residuals = Array(Float64, n)\n",
    "g = Array(Float64, p)\n",
    "\n",
    "num_covered = zeros(length(lambdaQRArr), length(lambdaLassoArr))\n",
    "num_appear = zeros(length(lambdaQRArr), length(lambdaLassoArr))\n",
    "\n",
    "cur_qr_path = result[\"qr_tau_path\"][indTau]\n",
    "cur_lasso_path = result[\"lasso_var_path\"][indJ];"
   ]
  },
  {
   "cell_type": "code",
   "execution_count": 22,
   "metadata": {
    "collapsed": false
   },
   "outputs": [
    {
     "name": "stdout",
     "output_type": "stream",
     "text": [
      "lambdaQRArr[95] => 0.020202020202020204\n"
     ]
    },
    {
     "data": {
      "text/plain": [
       "100x1 sparse matrix with 16 Float64 entries:\n",
       "\t[1  ,   1]  =  0.919943\n",
       "\t[2  ,   1]  =  0.981416\n",
       "\t[3  ,   1]  =  0.739849\n",
       "\t[4  ,   1]  =  0.608789\n",
       "\t[5  ,   1]  =  0.505494\n",
       "\t[22 ,   1]  =  -0.0235629\n",
       "\t[24 ,   1]  =  -0.00940574\n",
       "\t[35 ,   1]  =  -0.0119907\n",
       "\t[49 ,   1]  =  0.00966997\n",
       "\t[57 ,   1]  =  -0.00361409\n",
       "\t[58 ,   1]  =  -0.0144407\n",
       "\t[72 ,   1]  =  0.0126296\n",
       "\t[76 ,   1]  =  0.00595938\n",
       "\t[79 ,   1]  =  0.0269848\n",
       "\t[83 ,   1]  =  -0.0172218\n",
       "\t[90 ,   1]  =  -0.00814166"
      ]
     },
     "execution_count": 22,
     "metadata": {},
     "output_type": "execute_result"
    }
   ],
   "source": [
    "@show lambdaQRArr[95]\n",
    "cur_qr_path.beta[95]"
   ]
  },
  {
   "cell_type": "code",
   "execution_count": 42,
   "metadata": {
    "collapsed": false
   },
   "outputs": [
    {
     "data": {
      "text/plain": [
       "2-element Array{Float64,1}:\n",
       "  2.78076\n",
       " -2.16707"
      ]
     },
     "execution_count": 42,
     "metadata": {},
     "output_type": "execute_result"
    }
   ],
   "source": [
    "estim_support_lasso = find(cur_lasso_path.beta[indL2])\n",
    "refit_lasso = result[\"lasso_refit_var_path\"][indJ][estim_support_lasso]"
   ]
  },
  {
   "cell_type": "code",
   "execution_count": 43,
   "metadata": {
    "collapsed": false
   },
   "outputs": [
    {
     "data": {
      "text/plain": [
       "0.9828877467764753"
      ]
     },
     "execution_count": 43,
     "metadata": {},
     "output_type": "execute_result"
    }
   ],
   "source": [
    "for i=1:n\n",
    "    tmp = Y[i] - refit_qr.intercept - dot(vec(X[i, refit_qr.beta.rowval]), refit_qr.beta.nzval)\n",
    "    if tmp < 0.\n",
    "        residuals[i] = tau - 1\n",
    "    else\n",
    "        residuals[i] = tau\n",
    "    end\n",
    "end\n",
    "At_mul_B!(g, X, residuals)    \n",
    "\n",
    "hb_debias = refit_qr.beta[indJ] + dot(refit_lasso, g[estim_support_lasso]) * spF / n"
   ]
  },
  {
   "cell_type": "code",
   "execution_count": 53,
   "metadata": {
    "collapsed": false
   },
   "outputs": [
    {
     "data": {
      "text/plain": [
       "1-element Array{Float64,1}:\n",
       " -0.00286327"
      ]
     },
     "execution_count": 53,
     "metadata": {},
     "output_type": "execute_result"
    }
   ],
   "source": [
    "refit_lasso' * g[estim_support_lasso] * spF / n"
   ]
  },
  {
   "cell_type": "code",
   "execution_count": 54,
   "metadata": {
    "collapsed": false
   },
   "outputs": [
    {
     "data": {
      "text/plain": [
       "0.004368003917468316"
      ]
     },
     "execution_count": 54,
     "metadata": {},
     "output_type": "execute_result"
    }
   ],
   "source": [
    "eSigma = dot(refit_lasso, hSigma[estim_support_lasso, estim_support_lasso] * refit_lasso) * tau * (1 - tau) * spF^2 / n"
   ]
  },
  {
   "cell_type": "code",
   "execution_count": 56,
   "metadata": {
    "collapsed": false
   },
   "outputs": [
    {
     "data": {
      "text/plain": [
       "(0.8533496294158069,1.1124258641371436)"
      ]
     },
     "execution_count": 56,
     "metadata": {},
     "output_type": "execute_result"
    }
   ],
   "source": [
    "lb = hb_debias - 1.96 * sqrt( eSigma )\n",
    "ub = hb_debias + 1.96 * sqrt( eSigma )\n",
    "lb, ub"
   ]
  },
  {
   "cell_type": "code",
   "execution_count": 39,
   "metadata": {
    "collapsed": false
   },
   "outputs": [],
   "source": [
    "\n",
    "\n",
    "for indL1=1:length(cur_qr_path.lambdaArr)\n",
    "    estim_support_qr = find(cur_qr_path.beta[indL1])\n",
    "    refit_qr = result[\"qr_refit_tau_path\"][indTau][estim_support_qr]\n",
    "\n",
    "    for indL2=1:length(cur_lasso_path.lambdaArr)\n",
    "        estim_support_lasso = find(cur_lasso_path.beta[indL2])\n",
    "        refit_lasso = result[\"lasso_refit_var_path\"][indJ][estim_support_lasso]\n",
    "\n",
    "        for i=1:n\n",
    "            tmp = Y[i] - refit_qr.intercept - dot(vec(X[i, refit_qr.beta.rowval]), refit_qr.beta.nzval)\n",
    "            if tmp < 0.\n",
    "                residuals[i] = tau - 1\n",
    "            else\n",
    "                residuals[i] = tau\n",
    "            end\n",
    "        end\n",
    "        At_mul_B!(g, X, residuals)              \n",
    "\n",
    "        hb_debias = refit_qr.beta[indJ] + dot(refit_lasso, g[estim_support_lasso]) * spF / n\n",
    "        eSigma = dot(refit_lasso, hSigma[estim_support_lasso, estim_support_lasso] * refit_lasso) * tau * (1 - tau) * spF^2    \n",
    "        lb = hb_debias - 1.96 * sqrt( eSigma )\n",
    "        ub = hb_debias + 1.96 * sqrt( eSigma )\n",
    "\n",
    "        num_appear[indL1, indL2] += 1\n",
    "        if (lb < true_beta[indJ] < ub)\n",
    "            num_covered[indL1, indL2] += 1\n",
    "        end\n",
    "\n",
    "    end\n",
    "end"
   ]
  }
 ],
 "metadata": {
  "kernelspec": {
   "display_name": "Julia 0.3.8-pre",
   "language": "julia",
   "name": "julia 0.3"
  },
  "language_info": {
   "name": "julia",
   "version": "0.3.8"
  }
 },
 "nbformat": 4,
 "nbformat_minor": 0
}
